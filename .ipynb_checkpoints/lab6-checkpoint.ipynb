{
 "cells": [
  {
   "cell_type": "code",
   "execution_count": 14,
   "id": "vertical-pharmacy",
   "metadata": {},
   "outputs": [
    {
     "name": "stdout",
     "output_type": "stream",
     "text": [
      "abbc\n",
      "bb\n",
      "1\n"
     ]
    }
   ],
   "source": [
    "mainStr = input()\n",
    "mainStr = list(mainStr)\n",
    "subStr = input()\n",
    "count = 0\n",
    "temp = True\n",
    "\n",
    "while True:\n",
    "    \n",
    "    for i in subStr:\n",
    "        if i in mainStr:\n",
    "            continue\n",
    "        else:\n",
    "            temp = False\n",
    "            \n",
    "    if temp:\n",
    "        tmpScr = ''\n",
    "        for i in subStr:\n",
    "            for j in range(len(mainStr)):\n",
    "                if i == mainStr[j]:\n",
    "                    tmpScr = tmpScr + mainStr[j]\n",
    "                    mainStr[j] = None\n",
    "                    break\n",
    "        if tmpScr == subStr:\n",
    "            count += 1\n",
    "        \n",
    "    else:\n",
    "        break\n",
    "\n",
    "print(count)"
   ]
  },
  {
   "cell_type": "code",
   "execution_count": null,
   "id": "reasonable-bumper",
   "metadata": {},
   "outputs": [],
   "source": [
    "#aczabcabyz\n",
    "#abaaazbba -> ab"
   ]
  }
 ],
 "metadata": {
  "kernelspec": {
   "display_name": "Python 3",
   "language": "python",
   "name": "python3"
  },
  "language_info": {
   "codemirror_mode": {
    "name": "ipython",
    "version": 3
   },
   "file_extension": ".py",
   "mimetype": "text/x-python",
   "name": "python",
   "nbconvert_exporter": "python",
   "pygments_lexer": "ipython3",
   "version": "3.7.9"
  }
 },
 "nbformat": 4,
 "nbformat_minor": 5
}
