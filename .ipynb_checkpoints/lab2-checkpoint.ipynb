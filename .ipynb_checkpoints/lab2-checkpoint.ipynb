{
 "cells": [
  {
   "cell_type": "code",
   "execution_count": 46,
   "metadata": {},
   "outputs": [
    {
     "name": "stdout",
     "output_type": "stream",
     "text": [
      "for ( i = 0 ; i <= 10 ; i ++ ) ;\\\n",
      "{'keywords': ['for'], 'variables': ['i'], 'numericals': ['0', '10'], 'operators': ['=', '<=', '++']}\n"
     ]
    }
   ],
   "source": [
    "mystr = input()\n",
    "\n",
    "keyword = ['int','float','double','char','long','for','while']\n",
    "operator = ['++', '--', '<=', '>=', '+', '-', '*', '/', '=', '<', '>']\n",
    "\n",
    "mydict = {'keywords':[], 'variables':[], 'numericals':[], 'operators':[]}\n",
    "\n",
    "temp_str = mystr.split(' ')\n",
    "\n",
    "#print(temp_str)\n",
    "    \n",
    "if temp_str:\n",
    "    for i in temp_str:\n",
    "        if i in keyword:\n",
    "            mydict['keywords'].append(i)\n",
    "            continue\n",
    "            \n",
    "        if i in operator:\n",
    "            mydict['operators'].append(i)\n",
    "            \n",
    "        if i.isidentifier():\n",
    "            if i not in mydict['variables']:\n",
    "                mydict['variables'].append(i)\n",
    "        \n",
    "        if i.isdigit():\n",
    "            mydict['numericals'].append(i)\n",
    "        \n",
    "            \n",
    "\n",
    "print(mydict)"
   ]
  },
  {
   "cell_type": "code",
   "execution_count": null,
   "metadata": {},
   "outputs": [],
   "source": []
  }
 ],
 "metadata": {
  "kernelspec": {
   "display_name": "Python 3",
   "language": "python",
   "name": "python3"
  },
  "language_info": {
   "codemirror_mode": {
    "name": "ipython",
    "version": 3
   },
   "file_extension": ".py",
   "mimetype": "text/x-python",
   "name": "python",
   "nbconvert_exporter": "python",
   "pygments_lexer": "ipython3",
   "version": "3.7.9"
  }
 },
 "nbformat": 4,
 "nbformat_minor": 4
}
