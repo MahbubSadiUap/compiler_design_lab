{
 "cells": [
  {
   "cell_type": "code",
   "execution_count": 38,
   "metadata": {},
   "outputs": [
    {
     "name": "stdout",
     "output_type": "stream",
     "text": [
      "Enter an Identifier: float\n",
      "invalid\n"
     ]
    }
   ],
   "source": [
    "mystr = input(\"Enter an Identifier: \")\n",
    "mylist = ['int','double','float','printf','scanf','for','do','while','if','else']\n",
    "mylist2 = ['!','@','#','$','^','&','*','(',')','-','+','=','[',']','{','}','<','>','?','.',',','/','~',' ']\n",
    "\n",
    "myflag = True\n",
    "\n",
    "if len(mystr) <= 31:\n",
    "    for i in mylist2:\n",
    "        if i in mystr:\n",
    "            myflag = False\n",
    "    if mystr in mylist:\n",
    "        myflag = False\n",
    "    if not (mystr[0].isalpha() or mystr[0] == '_'):\n",
    "        myflag = False\n",
    "else:\n",
    "    myflag = False\n",
    "\n",
    "\n",
    "if myflag:\n",
    "    print('valid')\n",
    "else:\n",
    "    print('invalid')"
   ]
  },
  {
   "cell_type": "code",
   "execution_count": 7,
   "metadata": {},
   "outputs": [],
   "source": []
  },
  {
   "cell_type": "code",
   "execution_count": 27,
   "metadata": {},
   "outputs": [
    {
     "data": {
      "text/plain": [
       "True"
      ]
     },
     "execution_count": 27,
     "metadata": {},
     "output_type": "execute_result"
    }
   ],
   "source": [
    "' ' in 'hell world'"
   ]
  },
  {
   "cell_type": "code",
   "execution_count": null,
   "metadata": {},
   "outputs": [],
   "source": []
  }
 ],
 "metadata": {
  "kernelspec": {
   "display_name": "Python 3",
   "language": "python",
   "name": "python3"
  },
  "language_info": {
   "codemirror_mode": {
    "name": "ipython",
    "version": 3
   },
   "file_extension": ".py",
   "mimetype": "text/x-python",
   "name": "python",
   "nbconvert_exporter": "python",
   "pygments_lexer": "ipython3",
   "version": "3.7.9"
  }
 },
 "nbformat": 4,
 "nbformat_minor": 4
}
