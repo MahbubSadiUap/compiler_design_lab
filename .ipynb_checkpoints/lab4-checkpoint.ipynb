{
 "cells": [
  {
   "cell_type": "code",
   "execution_count": 28,
   "id": "prepared-organic",
   "metadata": {},
   "outputs": [
    {
     "name": "stdout",
     "output_type": "stream",
     "text": [
      "BBZAAAYCC\n",
      "B2ZA3YC2"
     ]
    }
   ],
   "source": [
    "mystr = input()\n",
    "\n",
    "temp = None\n",
    "j = None\n",
    "mylist = []\n",
    "for i in range(len(mystr)):\n",
    "    if i == 0:\n",
    "        mylist.append([mystr[i],1])\n",
    "        temp = mystr[i]\n",
    "        j = 0\n",
    "        continue\n",
    "    \n",
    "    if mystr[i] == temp:\n",
    "        mylist[j][1] += 1\n",
    "    else:\n",
    "        mylist.append([mystr[i],1])\n",
    "        temp = mystr[i]\n",
    "        j += 1\n",
    "        \n",
    "for i,j in mylist:\n",
    "    if j == 1:\n",
    "        print(\"{}\".format(i), end='')\n",
    "    else:\n",
    "        print(\"{}{}\".format(i,j), end='')"
   ]
  },
  {
   "cell_type": "code",
   "execution_count": 30,
   "id": "killing-inside",
   "metadata": {},
   "outputs": [
    {
     "name": "stdout",
     "output_type": "stream",
     "text": [
      "A1B3\n",
      "ABBB\n"
     ]
    }
   ],
   "source": [
    "intStr = input()\n",
    "\n",
    "outStr = ''\n",
    "\n",
    "for i in range(len(intStr)):\n",
    "    if i == len(intStr) - 1:\n",
    "        if intStr[-1].isalpha():\n",
    "            outStr += intStr[-1]\n",
    "        continue\n",
    "        \n",
    "    \n",
    "    if intStr[i].isalpha():\n",
    "        x = intStr[i+1]\n",
    "        if x.isalpha():\n",
    "            outStr += intStr[i]\n",
    "        elif x.isdigit():\n",
    "            x = int(x)\n",
    "            outStr += intStr[i]*x\n",
    "            \n",
    "print(outStr)\n",
    "\n"
   ]
  },
  {
   "cell_type": "code",
   "execution_count": 8,
   "id": "private-morgan",
   "metadata": {},
   "outputs": [],
   "source": []
  },
  {
   "cell_type": "code",
   "execution_count": null,
   "id": "continuing-centre",
   "metadata": {},
   "outputs": [],
   "source": []
  },
  {
   "cell_type": "code",
   "execution_count": null,
   "id": "induced-screening",
   "metadata": {},
   "outputs": [],
   "source": []
  },
  {
   "cell_type": "code",
   "execution_count": null,
   "id": "appointed-contrary",
   "metadata": {},
   "outputs": [],
   "source": [
    "# AAAATTGCCCAAGGG\n",
    "# GGGTAATTTTT"
   ]
  }
 ],
 "metadata": {
  "kernelspec": {
   "display_name": "Python 3",
   "language": "python",
   "name": "python3"
  },
  "language_info": {
   "codemirror_mode": {
    "name": "ipython",
    "version": 3
   },
   "file_extension": ".py",
   "mimetype": "text/x-python",
   "name": "python",
   "nbconvert_exporter": "python",
   "pygments_lexer": "ipython3",
   "version": "3.7.9"
  }
 },
 "nbformat": 4,
 "nbformat_minor": 5
}
