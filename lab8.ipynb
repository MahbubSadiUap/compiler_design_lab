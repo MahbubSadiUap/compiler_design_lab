{
 "cells": [
  {
   "cell_type": "code",
   "execution_count": 3,
   "id": "comprehensive-stuff",
   "metadata": {},
   "outputs": [],
   "source": [
    "def isNonterminal(x):\n",
    "    if x in ['@','#','+','*','(',')']: # #-> epsilon, @-> id\n",
    "        return True\n",
    "    elif len(x) == 1 and ord(x) >= ord('a') and ord(x) <= ord('z'):\n",
    "        return True\n",
    "    else:\n",
    "        return False"
   ]
  },
  {
   "cell_type": "code",
   "execution_count": 4,
   "id": "blocked-uncle",
   "metadata": {},
   "outputs": [],
   "source": [
    "def returnChar(x):\n",
    "    if '|' in x:\n",
    "        return [y[:2] if len(y)>1 and y[1] == \"'\" else y[0] for y in x.split('|')]\n",
    "    elif len(x)>1 and x[1] == \"'\":\n",
    "        return x[:2]\n",
    "    elif len(x)>1 and x[1] != \"'\":\n",
    "        return x[0]\n",
    "    else:\n",
    "        return x[0]\n",
    "        "
   ]
  },
  {
   "cell_type": "code",
   "execution_count": 12,
   "id": "fiscal-malta",
   "metadata": {},
   "outputs": [
    {
     "name": "stdout",
     "output_type": "stream",
     "text": [
      "{'E': 'T', \"E'\": ['+', '#'], 'T': 'F', \"T'\": ['*', '#'], 'F': ['@', '(']}\n"
     ]
    }
   ],
   "source": [
    "my_dict = {\n",
    "    \"E\": \"TE'\",\n",
    "    \"E'\": \"+TE'|#\",\n",
    "    \"T\": \"FT\",\n",
    "    \"T'\": \"*FT'|#\",\n",
    "    \"F\": \"@|(E)\"\n",
    "}\n",
    "\n",
    "my_dict2 = {}\n",
    "\n",
    "for i,j in my_dict.items():\n",
    "    #print(i,returnChar(j))\n",
    "    my_dict2[i] = returnChar(j)\n",
    "    \n",
    "for i in my_dict2:\n",
    "    if len(my_dict2[i]) == 1 and not isNonterminal(my_dict2[i]):\n",
    "        x = my_dict2[i]\n",
    "        if len(x) == 1 and not isNonterminal(my_dict2[x]):\n",
    "            my_dict2[i] = my_dict2[x]\n",
    "print(my_dict2)"
   ]
  },
  {
   "cell_type": "code",
   "execution_count": null,
   "id": "artificial-prisoner",
   "metadata": {},
   "outputs": [],
   "source": []
  }
 ],
 "metadata": {
  "kernelspec": {
   "display_name": "Python 3",
   "language": "python",
   "name": "python3"
  },
  "language_info": {
   "codemirror_mode": {
    "name": "ipython",
    "version": 3
   },
   "file_extension": ".py",
   "mimetype": "text/x-python",
   "name": "python",
   "nbconvert_exporter": "python",
   "pygments_lexer": "ipython3",
   "version": "3.7.9"
  }
 },
 "nbformat": 4,
 "nbformat_minor": 5
}
