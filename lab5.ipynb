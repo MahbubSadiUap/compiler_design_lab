{
 "cells": [
  {
   "cell_type": "code",
   "execution_count": 19,
   "id": "boring-enhancement",
   "metadata": {},
   "outputs": [
    {
     "name": "stdout",
     "output_type": "stream",
     "text": [
      "10 + 10 - 5 + 5\n",
      "10.0\n",
      "['10', '10', '5', '5', '+', '-', '+']\n"
     ]
    }
   ],
   "source": [
    "mystr = input()\n",
    "\n",
    "mylist = mystr.split()\n",
    "\n",
    "stack_output = []\n",
    "stack_operator = []\n",
    "\n",
    "for i in mylist:\n",
    "    if i in ['+','-','*','/']:\n",
    "        if stack_operator:\n",
    "            x = stack_operator[-1]\n",
    "            if (i == '+' and x == '+') or (i == '+' and i == '-'):\n",
    "                stack_output.append(stack_operator.pop())\n",
    "                stack_operator.append(i)\n",
    "            elif (i == '-' and x == '-') or (i == '-' and i == '+'):\n",
    "                stack_output.append(stack_operator.pop())\n",
    "                stack_operator.append(i)\n",
    "            elif (i == '*' and x == '*') or (i == '*' and i == '/'):\n",
    "                stack_output.append(stack_operator.pop())\n",
    "                stack_operator.append(i)\n",
    "            elif (i == '/' and x == '/') or (i == '/' and i == '*'):\n",
    "                stack_output.append(stack_operator.pop())\n",
    "                stack_operator.append(i)\n",
    "            else:\n",
    "                stack_operator.append(i)\n",
    "        else:\n",
    "            stack_operator.append(i)\n",
    "            \n",
    "    else:\n",
    "        stack_output.append(i)\n",
    "\n",
    "if stack_operator:\n",
    "    stack_operator.reverse()\n",
    "    for i in stack_operator:\n",
    "        stack_output.append(i)\n",
    "\n",
    "\n",
    "final_stack = []\n",
    "\n",
    "for i in stack_output:\n",
    "    if i in ['+','-','*','/']:\n",
    "        x = float(final_stack.pop())\n",
    "        y = float(final_stack.pop())\n",
    "        if i == '+':\n",
    "            final_stack.append(y+x)\n",
    "        elif i == '-':\n",
    "            final_stack.append(y-x)\n",
    "        elif i == '*':\n",
    "            final_stack.append(y*x)\n",
    "        elif i == '/':\n",
    "            final_stack.append(y/x)\n",
    "        \n",
    "    else:\n",
    "        final_stack.append(i)\n",
    "        \n",
    "print(final_stack[0])\n",
    "print(stack_output)\n"
   ]
  },
  {
   "cell_type": "code",
   "execution_count": null,
   "id": "developmental-preview",
   "metadata": {},
   "outputs": [],
   "source": []
  },
  {
   "cell_type": "code",
   "execution_count": null,
   "id": "oriental-thursday",
   "metadata": {},
   "outputs": [],
   "source": []
  },
  {
   "cell_type": "code",
   "execution_count": null,
   "id": "irish-rating",
   "metadata": {},
   "outputs": [],
   "source": []
  }
 ],
 "metadata": {
  "kernelspec": {
   "display_name": "Python 3",
   "language": "python",
   "name": "python3"
  },
  "language_info": {
   "codemirror_mode": {
    "name": "ipython",
    "version": 3
   },
   "file_extension": ".py",
   "mimetype": "text/x-python",
   "name": "python",
   "nbconvert_exporter": "python",
   "pygments_lexer": "ipython3",
   "version": "3.7.9"
  }
 },
 "nbformat": 4,
 "nbformat_minor": 5
}
