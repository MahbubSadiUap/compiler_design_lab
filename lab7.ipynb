{
 "cells": [
  {
   "cell_type": "code",
   "execution_count": 6,
   "id": "limiting-voluntary",
   "metadata": {},
   "outputs": [
    {
     "name": "stdout",
     "output_type": "stream",
     "text": [
      "actga tgagta tatg\n"
     ]
    },
    {
     "ename": "IndexError",
     "evalue": "list index out of range",
     "output_type": "error",
     "traceback": [
      "\u001b[1;31m---------------------------------------------------------------------------\u001b[0m",
      "\u001b[1;31mIndexError\u001b[0m                                Traceback (most recent call last)",
      "\u001b[1;32m<ipython-input-6-6560e7e2586e>\u001b[0m in \u001b[0;36m<module>\u001b[1;34m\u001b[0m\n\u001b[0;32m      6\u001b[0m \u001b[1;32mfor\u001b[0m \u001b[0mi\u001b[0m \u001b[1;32min\u001b[0m \u001b[0mrange\u001b[0m\u001b[1;33m(\u001b[0m\u001b[0mlen\u001b[0m\u001b[1;33m(\u001b[0m\u001b[0mmystr\u001b[0m\u001b[1;33m)\u001b[0m\u001b[1;33m-\u001b[0m\u001b[1;36m1\u001b[0m\u001b[1;33m)\u001b[0m\u001b[1;33m:\u001b[0m\u001b[1;33m\u001b[0m\u001b[1;33m\u001b[0m\u001b[0m\n\u001b[0;32m      7\u001b[0m     \u001b[0mx\u001b[0m \u001b[1;33m=\u001b[0m \u001b[1;32mNone\u001b[0m\u001b[1;33m\u001b[0m\u001b[1;33m\u001b[0m\u001b[0m\n\u001b[1;32m----> 8\u001b[1;33m     \u001b[1;32mfor\u001b[0m \u001b[0mj\u001b[0m \u001b[1;32min\u001b[0m \u001b[0mrange\u001b[0m\u001b[1;33m(\u001b[0m\u001b[0mlen\u001b[0m\u001b[1;33m(\u001b[0m\u001b[0mmystr\u001b[0m\u001b[1;33m[\u001b[0m\u001b[0mi\u001b[0m\u001b[1;33m]\u001b[0m\u001b[1;33m)\u001b[0m\u001b[1;33m)\u001b[0m\u001b[1;33m:\u001b[0m\u001b[1;33m\u001b[0m\u001b[1;33m\u001b[0m\u001b[0m\n\u001b[0m\u001b[0;32m      9\u001b[0m         \u001b[1;32mif\u001b[0m \u001b[0mmystr\u001b[0m\u001b[1;33m[\u001b[0m\u001b[0mi\u001b[0m\u001b[1;33m+\u001b[0m\u001b[1;36m1\u001b[0m\u001b[1;33m]\u001b[0m\u001b[1;33m.\u001b[0m\u001b[0mstartswith\u001b[0m\u001b[1;33m(\u001b[0m\u001b[0mmystr\u001b[0m\u001b[1;33m[\u001b[0m\u001b[0mi\u001b[0m\u001b[1;33m]\u001b[0m\u001b[1;33m[\u001b[0m\u001b[0mj\u001b[0m\u001b[1;33m:\u001b[0m\u001b[1;33m]\u001b[0m\u001b[1;33m)\u001b[0m\u001b[1;33m:\u001b[0m\u001b[1;33m\u001b[0m\u001b[1;33m\u001b[0m\u001b[0m\n\u001b[0;32m     10\u001b[0m             \u001b[0mx\u001b[0m \u001b[1;33m=\u001b[0m \u001b[0mlen\u001b[0m\u001b[1;33m(\u001b[0m\u001b[0mmystr\u001b[0m\u001b[1;33m[\u001b[0m\u001b[0mi\u001b[0m\u001b[1;33m]\u001b[0m\u001b[1;33m[\u001b[0m\u001b[0mj\u001b[0m\u001b[1;33m:\u001b[0m\u001b[1;33m]\u001b[0m\u001b[1;33m)\u001b[0m\u001b[1;33m\u001b[0m\u001b[1;33m\u001b[0m\u001b[0m\n",
      "\u001b[1;31mIndexError\u001b[0m: list index out of range"
     ]
    }
   ],
   "source": [
    "mystr = input()\n",
    "mystr = mystr.split()\n",
    "\n",
    "n = len(mystr)\n",
    "newstr = ''\n",
    "for i in range(len(mystr)-1):\n",
    "    x = None\n",
    "    for j in range(len(mystr[i])):\n",
    "        if mystr[i+1].startswith(mystr[i][j:]):\n",
    "            x = len(mystr[i][j:])\n",
    "            break\n",
    "    if x:\n",
    "        temp = mystr[i] + mystr[i+1][x:]\n",
    "        mystr.pop(0)\n",
    "        mystr.pop(0)\n",
    "        mystr[0] = temp\n",
    "    else:\n",
    "        temp = mystr[i] + mystr[i+1]\n",
    "        mystr.pop(0)\n",
    "        mystr.pop(0)\n",
    "        mystr[0] = temp\n",
    "        \n",
    "\n",
    "print(mystr[0])"
   ]
  },
  {
   "cell_type": "code",
   "execution_count": 2,
   "id": "wrong-rebate",
   "metadata": {},
   "outputs": [
    {
     "data": {
      "text/plain": [
       "True"
      ]
     },
     "execution_count": 2,
     "metadata": {},
     "output_type": "execute_result"
    }
   ],
   "source": [
    "'heel'.startswith('h')"
   ]
  },
  {
   "cell_type": "code",
   "execution_count": null,
   "id": "forty-express",
   "metadata": {},
   "outputs": [],
   "source": []
  },
  {
   "cell_type": "code",
   "execution_count": null,
   "id": "spiritual-bolivia",
   "metadata": {},
   "outputs": [],
   "source": []
  },
  {
   "cell_type": "code",
   "execution_count": 24,
   "id": "dimensional-joining",
   "metadata": {},
   "outputs": [
    {
     "name": "stdout",
     "output_type": "stream",
     "text": [
      "abc cde efg\n",
      "abcdefg\n"
     ]
    }
   ],
   "source": [
    "mystr = input()\n",
    "mystr = mystr.split()\n",
    "\n",
    "n = len(mystr)\n",
    "\n",
    "while n != 1:\n",
    "    x = None\n",
    "    for j in range(len(mystr[0])):\n",
    "        if mystr[1].startswith(mystr[0][j:]):\n",
    "            x = len(mystr[0][j:])\n",
    "            break\n",
    "    if x:\n",
    "        temp = mystr[0] + mystr[1][x:]\n",
    "        mystr.pop(0)\n",
    "        mystr.pop(0)\n",
    "        mystr.insert(0,temp)\n",
    "    elif x == None:\n",
    "        temp = mystr[0] + mystr[1]\n",
    "        mystr.pop(0)\n",
    "        mystr.pop(0)\n",
    "        mystr.insert(0,temp)\n",
    "        \n",
    "    n = len(mystr)\n",
    "    \n",
    "print(mystr[0])"
   ]
  },
  {
   "cell_type": "code",
   "execution_count": null,
   "id": "incorrect-tactics",
   "metadata": {},
   "outputs": [],
   "source": []
  }
 ],
 "metadata": {
  "kernelspec": {
   "display_name": "Python 3",
   "language": "python",
   "name": "python3"
  },
  "language_info": {
   "codemirror_mode": {
    "name": "ipython",
    "version": 3
   },
   "file_extension": ".py",
   "mimetype": "text/x-python",
   "name": "python",
   "nbconvert_exporter": "python",
   "pygments_lexer": "ipython3",
   "version": "3.7.9"
  }
 },
 "nbformat": 4,
 "nbformat_minor": 5
}
