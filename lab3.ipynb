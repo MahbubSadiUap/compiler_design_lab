{
 "cells": [
  {
   "cell_type": "code",
   "execution_count": 4,
   "id": "graphic-positive",
   "metadata": {},
   "outputs": [],
   "source": [
    "def isMatch(x,y):\n",
    "    if x == '(' and y == ')':\n",
    "        return True\n",
    "    elif x == '{' and y == '}':\n",
    "        return True\n",
    "    elif x == '[' and y == ']':\n",
    "        return True\n",
    "    else:\n",
    "        return False\n",
    "\n",
    "def myfunc(txt):\n",
    "    mystack = []\n",
    "    \n",
    "    for i in txt:\n",
    "        if i in ['(', '{', '[']:\n",
    "            mystack.append(i)\n",
    "        elif i in [')', '}', ']']:\n",
    "            if len(mystack) == 0:\n",
    "                return \"not valid\"\n",
    "            else:\n",
    "                top_mystack = mystack.pop()\n",
    "                if not isMatch(top_mystack, i):\n",
    "                    return \"not valid\"\n",
    "    if len(mystack) == 0:\n",
    "        return \"valid\"\n",
    "    else:\n",
    "        return \"not valid\""
   ]
  },
  {
   "cell_type": "code",
   "execution_count": 8,
   "id": "instructional-fiction",
   "metadata": {},
   "outputs": [
    {
     "name": "stdout",
     "output_type": "stream",
     "text": [
      "{]([)}\n",
      "not valid\n"
     ]
    }
   ],
   "source": [
    "mystr = input()\n",
    "print(myfunc(mystr))"
   ]
  },
  {
   "cell_type": "code",
   "execution_count": null,
   "id": "intensive-accountability",
   "metadata": {},
   "outputs": [],
   "source": []
  }
 ],
 "metadata": {
  "kernelspec": {
   "display_name": "Python 3",
   "language": "python",
   "name": "python3"
  },
  "language_info": {
   "codemirror_mode": {
    "name": "ipython",
    "version": 3
   },
   "file_extension": ".py",
   "mimetype": "text/x-python",
   "name": "python",
   "nbconvert_exporter": "python",
   "pygments_lexer": "ipython3",
   "version": "3.7.9"
  }
 },
 "nbformat": 4,
 "nbformat_minor": 5
}
