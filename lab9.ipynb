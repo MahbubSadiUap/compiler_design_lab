{
 "cells": [
  {
   "cell_type": "code",
   "execution_count": 29,
   "id": "thorough-maria",
   "metadata": {},
   "outputs": [],
   "source": [
    "def regular_exp(mystr):\n",
    "    if mystr.startswith('[') and mystr.endswith(']') and len(mystr) == 5:\n",
    "        x = mystr[1]\n",
    "        y = mystr[3]\n",
    "        result = [chr(i) for i in range(ord(x),ord(y)+1)]\n",
    "        result = ''.join(result)\n",
    "        return result\n",
    "    \n",
    "    if mystr[0].isalpha() and len(mystr) == 2:\n",
    "        result = []\n",
    "        if mystr.endswith('*'):\n",
    "            result = [i*mystr[0] for i in range(1,3)]\n",
    "            result.insert(0,'#')\n",
    "            result = ', '.join(result)\n",
    "            return result\n",
    "        elif mystr.endswith('+'):\n",
    "            result = [i*mystr[0] for i in range(1,4)]\n",
    "            result = ', '.join(result)\n",
    "            return result\n",
    "        \n",
    "    if mystr.startswith('(') and mystr.endswith(')*'):\n",
    "        x = mystr[1:len(mystr)-2]\n",
    "        result = []\n",
    "        result = [i*x for i in range(1,3)]\n",
    "        result.insert(0,'#')\n",
    "        result = ', '.join(result)\n",
    "        return result\n",
    "    \n",
    "    if mystr.startswith('(') and mystr.endswith(')+'):\n",
    "        x = mystr[1:len(mystr)-2]\n",
    "        result = []\n",
    "        result = [i*x for i in range(1,4)]\n",
    "        result = ', '.join(result)\n",
    "        return result"
   ]
  },
  {
   "cell_type": "code",
   "execution_count": 37,
   "id": "interstate-least",
   "metadata": {},
   "outputs": [
    {
     "name": "stdout",
     "output_type": "stream",
     "text": [
      "(ab)+\n",
      "ab, abab, ababab\n"
     ]
    }
   ],
   "source": [
    "myvar = input()\n",
    "print(regular_exp(myvar))"
   ]
  },
  {
   "cell_type": "code",
   "execution_count": null,
   "id": "appreciated-chicken",
   "metadata": {},
   "outputs": [],
   "source": [
    " "
   ]
  }
 ],
 "metadata": {
  "kernelspec": {
   "display_name": "Python 3",
   "language": "python",
   "name": "python3"
  },
  "language_info": {
   "codemirror_mode": {
    "name": "ipython",
    "version": 3
   },
   "file_extension": ".py",
   "mimetype": "text/x-python",
   "name": "python",
   "nbconvert_exporter": "python",
   "pygments_lexer": "ipython3",
   "version": "3.7.9"
  }
 },
 "nbformat": 4,
 "nbformat_minor": 5
}
